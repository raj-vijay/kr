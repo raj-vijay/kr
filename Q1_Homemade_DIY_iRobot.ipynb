{
  "nbformat": 4,
  "nbformat_minor": 0,
  "metadata": {
    "colab": {
      "name": "Q4. Homemade DIY iRobot.ipynb",
      "provenance": [],
      "collapsed_sections": [],
      "include_colab_link": true
    },
    "kernelspec": {
      "name": "python3",
      "display_name": "Python 3"
    }
  },
  "cells": [
    {
      "cell_type": "markdown",
      "metadata": {
        "id": "view-in-github",
        "colab_type": "text"
      },
      "source": [
        "<a href=\"https://colab.research.google.com/github/raj-vijay/kr/blob/master/Q1_Homemade_DIY_iRobot.ipynb\" target=\"_parent\"><img src=\"https://colab.research.google.com/assets/colab-badge.svg\" alt=\"Open In Colab\"/></a>"
      ]
    },
    {
      "cell_type": "markdown",
      "metadata": {
        "id": "lTLiqTVdA9-v",
        "colab_type": "text"
      },
      "source": [
        "**1.4 AGENT-BASED REPRESENTATION OF KNOWLEDGE**\n",
        "\n",
        "Create a simple agent-based game in a 1-dimensional world. \n",
        "\n",
        "Note: I couldn't really imagine a game here, so I have modeled the simple vacuum agent, and the game plan is to clean the floor, of course.\n",
        "\n",
        "Ideally, the objects within the world relate will relate to a knowledge-based representation scheme (Give context for the decisions you make in relation to the world, its agent, percepts and the actions carried out).\n",
        "\n",
        "Specify a PEAS description including at least four percepts and four actions of your choosing and specify the conditions under which the game is complete. Implement this game in Python using any of the libraries made available from the AIMA python repo. \n",
        "\n",
        "The specification for the Agent, Environment, and Program to enable the game to run must be included. All code should be in a single python file."
      ]
    },
    {
      "cell_type": "markdown",
      "metadata": {
        "id": "TENm8iMqVg4V",
        "colab_type": "text"
      },
      "source": [
        "![alt text](https://cdn.thewirecutter.com/wp-content/uploads/2018/09/robot-vacuum-roomba-650-path-630.gif)"
      ]
    },
    {
      "cell_type": "markdown",
      "metadata": {
        "id": "JnAYNNlGFHWN",
        "colab_type": "text"
      },
      "source": [
        "**Define the environment for the simple vacuum-cleaner agent.**\n",
        "\n",
        "The environment for the simple vacuum-cleaner agent is the floor.\n",
        "\n",
        "*   Two positions X & Y are defined on the floor. \n",
        "*   The two states of the floor are dirty and clean, represented by 0 and 1.\n",
        "\n",
        "The state of the positions on the floor are randomized.\n",
        "\n"
      ]
    },
    {
      "cell_type": "code",
      "metadata": {
        "id": "Rp_CVNukGIS2",
        "colab_type": "code",
        "colab": {}
      },
      "source": [
        "import random"
      ],
      "execution_count": 0,
      "outputs": []
    },
    {
      "cell_type": "code",
      "metadata": {
        "id": "MCYZkJYjFSWl",
        "colab_type": "code",
        "colab": {}
      },
      "source": [
        "# Defining environment for testing the simple vacuum agent\n",
        "\n",
        "class environment(object):\n",
        "    def __init__(self):\n",
        "        # The state of the floor is defined.\n",
        "        # 0 : floor is dirty\n",
        "        # 1 : floor is clean\n",
        "        \n",
        "        print(\"Two locations on the floor are indicated as X & Y.\")\n",
        "        print(\"0 indicates floor is dirty and 1 indicates floor is clean.\\n\")\n",
        "        \n",
        "        self.floor = {'X': '0', 'Y': '0'}\n",
        "        \n",
        "        # Two points X & Y on the floor is randomized to evaluate the simple vacuum agent\n",
        "        self.floor['X'] = random.randint(0, 1)\n",
        "        self.floor['Y'] = random.randint(0, 1)"
      ],
      "execution_count": 0,
      "outputs": []
    },
    {
      "cell_type": "markdown",
      "metadata": {
        "id": "5cjoX77yJNbo",
        "colab_type": "text"
      },
      "source": [
        "**Define the simple reflex vacuum-cleaner agent within its environment**\n",
        "\n",
        "The agent in this case is a simple reflex vacuum-cleaner agent. The vacuum-cleaner is placed randomly on the floor, either at position X or Y on the floor. The following considerations are taken in the design of the vacuum-cleaner agent to demonstrate rational behaviour:\n",
        "\n",
        "**Performance:** The vacuum-agent is assigned a performance score of 1 if it manages to clean the position which is dirty.\n",
        "\n",
        "**Environment:** The environment of the vacuum-cleaner agent is the floor, as defined above. Two positions X & Y are defined on the floor, which in turn are respresented by two states, dirty and clean, represented by 0 and 1.\n",
        "\n",
        "**Actuators:** There are two expected actions from the simple reflex vacuum-cleaner agent. Move to the various positions on the floor and clean the floor.\n",
        "\n",
        "**Sensors:** The vacuum-cleaner agent is expected to sense the state of the floor, i.e. to sense if the floor is dirty or clean.\n",
        "\n",
        "\n"
      ]
    },
    {
      "cell_type": "code",
      "metadata": {
        "id": "V3x11Nv7MlAT",
        "colab_type": "code",
        "colab": {}
      },
      "source": [
        "# Defining agent within the environment\n",
        "# The agent in this case is a simple reflex vacuum agent\n",
        "\n",
        "class vacuum(environment):\n",
        "    def __init__(self, environment):\n",
        "        # Print the position of vacuum on the floor\n",
        "        print(environment.floor, \"is the initial state of the floor.\\n\")\n",
        "        \n",
        "        # Defining performance measurement for the vacuum agent\n",
        "        performance = 0\n",
        "        # Place vacuum at random position\n",
        "        vacuum_position = random.randint(0, 1)\n",
        "        \n",
        "        # if vacuum is at position X on the floor\n",
        "        if vacuum_position == 0:\n",
        "            print(\"Vacuum is placed at the random position X on the floor.\\n\")\n",
        "            \n",
        "            # If position X on the floor is dirty\n",
        "            if environment.floor['X'] == 1:\n",
        "                print(\"Sense -> Position X on the floor is dirty.\")\n",
        "                \n",
        "                # Action: Suck, Mark Clean \n",
        "                print(\"Action -> Suck floor at X & mark position X clean.\")\n",
        "                environment.floor['X'] = 0;\n",
        "                performance += 1\n",
        "                print(\"Result -> Position X on the floor is now clean.\\n\")\n",
        "                \n",
        "                \n",
        "                # If position Y on the floor is dirty                           \n",
        "                if environment.floor['Y'] == 1:\n",
        "                    print(\"Sense -> Position Y on the floor is dirty.\")\n",
        "                    \n",
        "                    # Action: Move to position Y on the floor\n",
        "                    print(\"Action -> Move to Position Y on the floor.\")\n",
        "                    \n",
        "                    # Action: Suck, Mark Clean \n",
        "                    print(\"Action -> Suck floor at Y & mark position Y clean.\")\n",
        "                    environment.floor['Y'] = 0;\n",
        "                    performance += 1\n",
        "                    print(\"Result -> Position Y on the floor is now clean.\\n\")\n",
        "            else:\n",
        "                # If position Y on the floor is dirty\n",
        "                if environment.floor['Y'] == 1:\n",
        "                    print(\"Sense -> Position Y on the floor is dirty.\")\n",
        "                    \n",
        "                    # Action: Move to position Y on the floor\n",
        "                    print (\"Action -> Move to Position Y on the floor.\")\n",
        "                    \n",
        "                    # Action: Suck, Mark Clean\n",
        "                    print(\"Action -> Suck floor at Y & mark position Y clean.\")\n",
        "                    environment.floor['Y'] = 0;\n",
        "                    performance += 1\n",
        "                    \n",
        "                    print(\"Result -> Position Y on the floor is now clean.\\n\")\n",
        "        \n",
        "        # # if vacuum is at position Y on the floor\n",
        "        elif vacuum_position == 1:\n",
        "            print(\"Vacuum is placed at the random position Y on the floor.\\n\")\n",
        "            # If position Y on the floor is dirty\n",
        "            if environment.floor['Y'] == 1:\n",
        "                print (\"Sense -> Position Y on the floor is dirty.\")\n",
        "                \n",
        "                # Action: Suck, Mark Clean \n",
        "                print(\"Action -> Suck floor at Y & mark position Y Clean.\")\n",
        "                environment.floor['Y'] = 0;\n",
        "                performance += 1\n",
        "                \n",
        "                print(\"Result -> Position Y on the floor is now clean.\\n\")\n",
        "                \n",
        "                # If position X on the floor is dirty\n",
        "                if environment.floor['X'] == 1:\n",
        "                    print (\"Sense -> Position X on the floor is dirty.\")\n",
        "                    \n",
        "                    # Action: Move to position X on the floor\n",
        "                    print(\"Action -> Move to Position X on the floor.\")\n",
        "                    \n",
        "                    # Action: Suck, Mark Clean\n",
        "                    print(\"Action -> Suck floor at X & mark position X clean.\")\n",
        "                    environment.floor['X'] = 0;\n",
        "                    performance += 1\n",
        "                    \n",
        "                    print (\"Result -> Position X on the floor is now clean.\\n\")\n",
        "            else:\n",
        "                # If position X on the floor is dirty\n",
        "                if environment.floor['X'] == 1:\n",
        "                    print(\"Sense -> Position X on the floor is dirty.\")\n",
        "                    \n",
        "                    # Action: Move to position X on the floor\n",
        "                    print(\"Action -> Move to Position X on the floor.\")\n",
        "\n",
        "                    # Action: Suck, Mark Clean\n",
        "                    print(\"Action -> Suck floor at X & mark position X Clean.\")\n",
        "                    environment.floor['X'] = 0;\n",
        "                    performance += 1\n",
        "                    \n",
        "                    print (\"Result Position X on the floor is now clean.\\n\")\n",
        "        \n",
        "        # The floor is finally clean.\n",
        "        print (environment.floor, \"is the state of the floor after vacuum.\\n\")\n",
        "        print (\"Performance Measurement:\", performance)\n"
      ],
      "execution_count": 0,
      "outputs": []
    },
    {
      "cell_type": "markdown",
      "metadata": {
        "id": "3Re02pxVM3Is",
        "colab_type": "text"
      },
      "source": [
        "Now that we have defined the environment (the floor) and the agent (the vacuum-cleaner), it is time to clean the floor."
      ]
    },
    {
      "cell_type": "code",
      "metadata": {
        "id": "aEl3SIwcNMaP",
        "colab_type": "code",
        "outputId": "0c7f2a01-a863-4749-9d55-52857e8a9e11",
        "colab": {
          "base_uri": "https://localhost:8080/",
          "height": 340
        }
      },
      "source": [
        "floor = environment()\n",
        "vacuum_agent = vacuum(floor)"
      ],
      "execution_count": 0,
      "outputs": [
        {
          "output_type": "stream",
          "text": [
            "Two locations on the floor are indicated as X & Y.\n",
            "0 indicates floor is dirty and 1 indicates floor is clean.\n",
            "\n",
            "{'X': 1, 'Y': 1} is the initial state of the floor.\n",
            "\n",
            "Vacuum is placed at the random position Y on the floor.\n",
            "\n",
            "Sense -> Position Y on the floor is dirty.\n",
            "Action -> Suck floor at Y & mark position Y Clean.\n",
            "Result -> Position Y on the floor is now clean.\n",
            "\n",
            "Sense -> Position X on the floor is dirty.\n",
            "Action -> Move to Position X on the floor.\n",
            "Action -> Suck floor at X & mark position X clean.\n",
            "Result -> Position X on the floor is now clean.\n",
            "\n",
            "{'X': 0, 'Y': 0} is the state of the floor after vacuum.\n",
            "\n",
            "Performance Measurement: 2\n"
          ],
          "name": "stdout"
        }
      ]
    }
  ]
}