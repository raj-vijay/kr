{
  "nbformat": 4,
  "nbformat_minor": 0,
  "metadata": {
    "colab": {
      "name": "Q5. The Missionaries and Cannibals.ipynb",
      "provenance": [],
      "include_colab_link": true
    },
    "kernelspec": {
      "name": "python3",
      "display_name": "Python 3"
    }
  },
  "cells": [
    {
      "cell_type": "markdown",
      "metadata": {
        "id": "view-in-github",
        "colab_type": "text"
      },
      "source": [
        "<a href=\"https://colab.research.google.com/github/raj-vijay/kr/blob/master/Q2_The_Missionaries_and_Cannibals.ipynb\" target=\"_parent\"><img src=\"https://colab.research.google.com/assets/colab-badge.svg\" alt=\"Open In Colab\"/></a>"
      ]
    },
    {
      "cell_type": "markdown",
      "metadata": {
        "id": "HMWORWiD2JF2",
        "colab_type": "text"
      },
      "source": [
        "**1.3 Q#1 - MISSIONARIES AND CANNIBALS**\n",
        "\n",
        "The missionaries and cannibals problemis usually stated as follows. Three missionaries and three cannibals are on one side of a river, along with a boat that can hold one or two people. Find a way to get everyone to the other side without ever leaving a group of missionaries in one place outnumbered by the cannibals in that place. This problem is famous in AI because it was the subject of the first paper that approached problem formulation from an analytical viewpoint (Amarel, 1968)."
      ]
    },
    {
      "cell_type": "markdown",
      "metadata": {
        "id": "xAr_4MgJ2WpV",
        "colab_type": "text"
      },
      "source": [
        "1. Formulate the problem precisely, making only those distinctions necessary to ensure a valid solution. Draw a diagram of the complete state space.\n",
        "\n",
        "2. Implement and solve the problem optimally using an appropriate search algorithm. Is it a good idea to check for repeated states?\n",
        "3. Why do you think people have a hard time solving this puzzle, given that the state space is so simple?"
      ]
    },
    {
      "cell_type": "markdown",
      "metadata": {
        "id": "xCP4U9Ic2nh1",
        "colab_type": "text"
      },
      "source": [
        "**Solution**\n",
        "\n",
        "State Space\n",
        "\n",
        "[3M, 3C], [3M, 2C], [3M, 1C], [3M, 0C], [2M, 3C], [2M, 2C], [2M, 1C], [2M, 0C], [1M, 3C], [1M, 2C], \n",
        "[1M, 1C], [1M, 0C], [0M, 3C], [0M, 2C], [0M, 1C], [0M, 0C]\n",
        "\n",
        "\n",
        "\n",
        "i.e. S = [M, C] ∀ M, C ∈ [0, 1, 2, 3]\n",
        "\n",
        "Note: I have added the direction of the boat into the state space, with 0 - Right and 1 - Left. \n"
      ]
    },
    {
      "cell_type": "code",
      "metadata": {
        "id": "1ZOKdzrZoRUn",
        "colab_type": "code",
        "outputId": "a6967ac7-0845-437c-85fb-2ba37e2467d1",
        "colab": {
          "base_uri": "https://localhost:8080/",
          "height": 71
        }
      },
      "source": [
        "    def state_space():\n",
        "        space = []\n",
        "        for m in range(4):\n",
        "            for c in range(4):\n",
        "              for b in range(2):\n",
        "                space.append([m, c, b])\n",
        "        return space\n",
        "        # Test action space\n",
        "    test = state_space()\n",
        "    print(\"State Space\\n\", test)"
      ],
      "execution_count": 0,
      "outputs": [
        {
          "output_type": "stream",
          "text": [
            "State Space\n",
            " [[0, 0, 0], [0, 0, 1], [0, 1, 0], [0, 1, 1], [0, 2, 0], [0, 2, 1], [0, 3, 0], [0, 3, 1], [1, 0, 0], [1, 0, 1], [1, 1, 0], [1, 1, 1], [1, 2, 0], [1, 2, 1], [1, 3, 0], [1, 3, 1], [2, 0, 0], [2, 0, 1], [2, 1, 0], [2, 1, 1], [2, 2, 0], [2, 2, 1], [2, 3, 0], [2, 3, 1], [3, 0, 0], [3, 0, 1], [3, 1, 0], [3, 1, 1], [3, 2, 0], [3, 2, 1], [3, 3, 0], [3, 3, 1]]\n"
          ],
          "name": "stdout"
        }
      ]
    },
    {
      "cell_type": "markdown",
      "metadata": {
        "id": "4PogMseK3NqH",
        "colab_type": "text"
      },
      "source": [
        "**Action Space**\n",
        "\n",
        "[2M, 0C], [1M, 1C], [1M, 0C], [0M, 1C], [0M, 2C], [0M, 0C]\n",
        "\n",
        "\n",
        "i.e. A = [M, C] ∀ M, C ∈ [0, 1]\n"
      ]
    },
    {
      "cell_type": "code",
      "metadata": {
        "id": "m0YiNb2goi7A",
        "colab_type": "code",
        "outputId": "cfdc540b-dd03-4365-c117-c7b0273266f8",
        "colab": {
          "base_uri": "https://localhost:8080/",
          "height": 51
        }
      },
      "source": [
        "    def boat():\n",
        "        action = []\n",
        "        for m in range(3):\n",
        "            for c in range(3):\n",
        "                if 0 < m < c:\n",
        "                    continue\n",
        "                if 1 <= m + c <= 2:\n",
        "                    action.append([m, c])\n",
        "                    \n",
        "        return action\n",
        "    # Test action space\n",
        "    test = boat()\n",
        "    print(\"Boat Actions\\n\", test)"
      ],
      "execution_count": 0,
      "outputs": [
        {
          "output_type": "stream",
          "text": [
            "Boat Actions\n",
            " [[0, 1], [0, 2], [1, 0], [1, 1], [2, 0]]\n"
          ],
          "name": "stdout"
        }
      ]
    },
    {
      "cell_type": "markdown",
      "metadata": {
        "id": "ZJ9-EXGG3oj1",
        "colab_type": "text"
      },
      "source": [
        "**Valid States**\n",
        "\n",
        "[3M, 3C], [3M, 2C], [3M, 1C], [3M, 0C], [2M, 2C], [2M, 1C], [2M, 0C], [1M, 1C], [1M, 0C], [0M, 3C], [0M, 2C], [0M, 1C], [0M, 0C]\n",
        "\n",
        "\n",
        "i.e. V= [M, C] ∀ M, C ∈ [0, 1, 2, 3] where M ≥ C\n"
      ]
    },
    {
      "cell_type": "code",
      "metadata": {
        "id": "9ZDUhrhloqo7",
        "colab_type": "code",
        "outputId": "55fdc199-3d41-4a26-bb28-1df32d188baa",
        "colab": {
          "base_uri": "https://localhost:8080/",
          "height": 71
        }
      },
      "source": [
        "    def valid():\n",
        "        v_space = state_space()\n",
        "        valid = []\n",
        "        for v in v_space:\n",
        "            if v[0] != 0:\n",
        "                if v[0] >= v[1]:\n",
        "                    valid.append(v)\n",
        "            else:\n",
        "                valid.append(v)\n",
        "        return valid \n",
        "        \n",
        "    # Test valid space\n",
        "    VALID = valid()\n",
        "    print(\"Valid Space\\n\", VALID)"
      ],
      "execution_count": 0,
      "outputs": [
        {
          "output_type": "stream",
          "text": [
            "Valid Space\n",
            " [[0, 0, 0], [0, 0, 1], [0, 1, 0], [0, 1, 1], [0, 2, 0], [0, 2, 1], [0, 3, 0], [0, 3, 1], [1, 0, 0], [1, 0, 1], [1, 1, 0], [1, 1, 1], [2, 0, 0], [2, 0, 1], [2, 1, 0], [2, 1, 1], [2, 2, 0], [2, 2, 1], [3, 0, 0], [3, 0, 1], [3, 1, 0], [3, 1, 1], [3, 2, 0], [3, 2, 1], [3, 3, 0], [3, 3, 1]]\n"
          ],
          "name": "stdout"
        }
      ]
    },
    {
      "cell_type": "markdown",
      "metadata": {
        "id": "STqEdHVX3zYl",
        "colab_type": "text"
      },
      "source": [
        "**Invalid States**\n",
        "\n",
        "[2M, 3C], [1M, 3C], [1M, 2C]\n",
        "\n",
        "i.e. I = [M, C] ∀ M, C ∈ [0, 3] where M < C\n"
      ]
    },
    {
      "cell_type": "code",
      "metadata": {
        "id": "sUmz_sqepLoL",
        "colab_type": "code",
        "outputId": "33597dbc-6183-49a5-c098-217e0954c778",
        "colab": {
          "base_uri": "https://localhost:8080/",
          "height": 51
        }
      },
      "source": [
        "    def invalid():\n",
        "        i_space = state_space()\n",
        "        invalid = []\n",
        "        for i in i_space:\n",
        "            if i[0] != 0:\n",
        "                if i[0] < i[1]:\n",
        "                    invalid.append(i)\n",
        "        return invalid \n",
        "    \n",
        "    # Test valid space\n",
        "    INVALID = invalid()\n",
        "    print(\"Invalid Space\\n\", INVALID)"
      ],
      "execution_count": 0,
      "outputs": [
        {
          "output_type": "stream",
          "text": [
            "Invalid Space\n",
            " [[1, 2, 0], [1, 2, 1], [1, 3, 0], [1, 3, 1], [2, 3, 0], [2, 3, 1]]\n"
          ],
          "name": "stdout"
        }
      ]
    },
    {
      "cell_type": "code",
      "metadata": {
        "id": "MaafB5qtpbWj",
        "colab_type": "code",
        "outputId": "3a39b831-9b76-4433-b62a-9e1cdd8f3210",
        "colab": {
          "base_uri": "https://localhost:8080/",
          "height": 85
        }
      },
      "source": [
        "    def initial():\n",
        "        return [[3, 3, 1]]    \n",
        "    \n",
        "    def goal():\n",
        "        return [[0, 0, 0]]  \n",
        "      \n",
        "    # Test values\n",
        "    print(\"Initial State\\n\", initial())\n",
        "    print(\"Goal State\\n\", goal())"
      ],
      "execution_count": 0,
      "outputs": [
        {
          "output_type": "stream",
          "text": [
            "Initial State\n",
            " [[3, 3, 1]]\n",
            "Goal State\n",
            " [[0, 0, 0]]\n"
          ],
          "name": "stdout"
        }
      ]
    },
    {
      "cell_type": "code",
      "metadata": {
        "id": "9cCao_mzpxvK",
        "colab_type": "code",
        "outputId": "9d33c7a1-40d7-4177-d700-ac19176f7640",
        "colab": {
          "base_uri": "https://localhost:8080/",
          "height": 119
        }
      },
      "source": [
        "    def isgoal(state):\n",
        "        if state in goal(): \n",
        "            return True\n",
        "        else:\n",
        "            return False\n",
        "    def isvalid(state):        \n",
        "        if state in valid(): \n",
        "            return True\n",
        "        else:\n",
        "            return False\n",
        "      \n",
        "    def isinvalid(state):\n",
        "        if state in invalid(): \n",
        "            return True\n",
        "        else:\n",
        "            return False\n",
        "    # Test check functions\n",
        "    print(\"Goal Check for [0, 0, 0]:\", isgoal([0,0,0]))\n",
        "    print(\"Goal Check for [1, 2, 1]:\", isgoal([1,2,1]))\n",
        "\n",
        "    # Test check functions\n",
        "    print(\"Valid Check for [3, 2, 1]: \", isvalid([3,2,1]))\n",
        "    print(\"Valid Check for [2, 3, 0]: \", isvalid([2,3,0]))\n",
        "\n",
        "    # Test check functions\n",
        "    print(\"Invalid Check for [3, 2, 1]: \", isinvalid([3,2,1]))\n",
        "    print(\"Invalid Check for [2, 3, 0]: \", isinvalid([2,3,0]))\n",
        "\n"
      ],
      "execution_count": 0,
      "outputs": [
        {
          "output_type": "stream",
          "text": [
            "Goal Check for [0, 0, 0]: True\n",
            "Goal Check for [1, 2, 1]: False\n",
            "Valid Check for [3, 2, 1]:  True\n",
            "Valid Check for [2, 3, 0]:  False\n",
            "Invalid Check for [3, 2, 1]:  False\n",
            "Invalid Check for [2, 3, 0]:  True\n"
          ],
          "name": "stdout"
        }
      ]
    },
    {
      "cell_type": "code",
      "metadata": {
        "id": "biqyaVvUrSVQ",
        "colab_type": "code",
        "outputId": "3ca0dfe8-5d97-445e-943c-7a8877478eb5",
        "colab": {
          "base_uri": "https://localhost:8080/",
          "height": 85
        }
      },
      "source": [
        "def successors(cur_state):\n",
        "    children = []\n",
        "    for i in cur_state:\n",
        "        for j in boat():\n",
        "            if i[2] == 1:\n",
        "                if isvalid([i[0]-j[0], i[1]-j[1], 0]):\n",
        "                    children.append([i[0]-j[0], i[1]-j[1], 0])\n",
        "            else:\n",
        "                if isvalid([i[0]+j[0], i[1]+j[1], 1]):\n",
        "                    children.append([i[0]+j[0], i[1]+j[1], 1])            \n",
        "    return children\n",
        "\n",
        "# Test Successors\n",
        "print(\"Successors for [3, 3, 1] -> Left\\n\", successors([[3,3,1]]))\n",
        "print(\"Successors for [2, 2, 0] -> Right\\n\", successors([[2,2,0]]))"
      ],
      "execution_count": 0,
      "outputs": [
        {
          "output_type": "stream",
          "text": [
            "Successors for [3, 3, 1] -> Left\n",
            " [[3, 2, 0], [3, 1, 0], [2, 2, 0]]\n",
            "Successors for [2, 2, 0] -> Right\n",
            " [[3, 2, 1], [3, 3, 1]]\n"
          ],
          "name": "stdout"
        }
      ]
    },
    {
      "cell_type": "markdown",
      "metadata": {
        "id": "BVoZXd851WQW",
        "colab_type": "text"
      },
      "source": [
        "**Breadth First Search Algorithm**\n",
        " \n",
        "Breadth first searches are performed by exploring all nodes at a given depth first proceeding to the next level. This means that all immediate children of nodes are explored before any of the children’s children are considered. The BFS uses a queue structure to hold all generate but still unexplored nodes. The order in which nodes are placed on the queue for removal and exploration determines the type of search. The BFS algorithm proceeds as follows. \n",
        "\n",
        "1.   Place the starting nodes on the queue.\n",
        "2.   If the queue is empty, return failure and stop.\n",
        "3.   If the first element on the queue is a goal node, return success and stop. \n",
        "4.   Otherwise, remove and expand the first element from the queue and place all the children at the end of the queue in any order.\n",
        "5.   Return to step 2"
      ]
    },
    {
      "cell_type": "code",
      "metadata": {
        "colab_type": "code",
        "id": "M4xHpwl_82E9",
        "colab": {}
      },
      "source": [
        "def BFS():\n",
        "  queue = initial()\n",
        "  level = 0\n",
        "  explored = []\n",
        "  if isgoal(queue):\n",
        "    return explored\n",
        "  while queue:    \n",
        "    next_state = queue.pop(0)\n",
        "    if isgoal(next_state):\n",
        "      return explored\n",
        "    explored.append(next_state)\n",
        "    children = successors([next_state])\n",
        "    for child in children:\n",
        "      if (child not in explored) and (child not in queue):\n",
        "        queue.append(child)        \n",
        "    if queue == []:\n",
        "      return explored\n",
        "  print(level)\n",
        "\n",
        "\n",
        "  "
      ],
      "execution_count": 0,
      "outputs": []
    },
    {
      "cell_type": "code",
      "metadata": {
        "id": "a8nmFNaoqUja",
        "colab_type": "code",
        "outputId": "fc092b9f-a99f-4890-d531-e3e56ebc629b",
        "colab": {
          "base_uri": "https://localhost:8080/",
          "height": 54
        }
      },
      "source": [
        "result = BFS()\n",
        "print(result)"
      ],
      "execution_count": 0,
      "outputs": [
        {
          "output_type": "stream",
          "text": [
            "[[3, 3, 1], [3, 2, 0], [3, 1, 0], [2, 2, 0], [3, 2, 1], [3, 0, 0], [2, 1, 0], [3, 1, 1], [2, 2, 1], [2, 0, 0], [1, 1, 0], [0, 2, 0], [2, 1, 1], [3, 0, 1], [0, 3, 1], [1, 0, 0], [0, 1, 0], [1, 1, 1], [2, 0, 1], [0, 2, 1]]\n"
          ],
          "name": "stdout"
        }
      ]
    }
  ]
}